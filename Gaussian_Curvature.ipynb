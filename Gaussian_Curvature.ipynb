{
 "cells": [
  {
   "cell_type": "code",
   "execution_count": 1,
   "metadata": {},
   "outputs": [],
   "source": [
    "import igl\n",
    "import meshplot as mp\n",
    "import numpy as np\n",
    "import numpy.linalg as LA\n",
    "from meshplot import plot"
   ]
  },
  {
   "cell_type": "code",
   "execution_count": 2,
   "metadata": {},
   "outputs": [
    {
     "name": "stdout",
     "output_type": "stream",
     "text": [
      "[[ 0.1522277  -1.10341821  0.21488196]\n",
      " [ 0.1576865  -1.10406037  0.2063322 ]\n",
      " [ 0.16346392 -1.10369255  0.20969022]\n",
      " ...\n",
      " [-0.03452438  0.99575616  0.29919739]\n",
      " [-0.04053583  0.99748553  0.29668082]\n",
      " [ 0.0097354   0.98900244  0.29643626]]\n",
      "(134345, 3)\n",
      "[[     0      1      2]\n",
      " [     2      1      3]\n",
      " [     2      3      4]\n",
      " ...\n",
      " [134327 134331 134325]\n",
      " [ 10780 134335  10781]\n",
      " [133838 134344 133836]]\n",
      "(268686, 3)\n"
     ]
    },
    {
     "data": {
      "application/vnd.jupyter.widget-view+json": {
       "model_id": "46f2a44a27ac46d0af91439039c70614",
       "version_major": 2,
       "version_minor": 0
      },
      "text/plain": [
       "Renderer(camera=PerspectiveCamera(children=(DirectionalLight(color='white', intensity=0.6, position=(-0.021590…"
      ]
     },
     "metadata": {},
     "output_type": "display_data"
    }
   ],
   "source": [
    "# loading and plotting mesh\n",
    "vert, tri = igl.read_triangle_mesh(\"./igea.ply\")\n",
    "print(vert)                                               #nx3 array containing the 3D vertex coordinates\n",
    "print(vert.shape)\n",
    "#print(type(vert))\n",
    "print(tri)                                                # mx3 containing the triangles\n",
    "print(tri.shape)\n",
    "#print(type(tri))\n",
    "plot_mesh = mp.plot(vert, tri)\n"
   ]
  },
  {
   "cell_type": "code",
   "execution_count": null,
   "metadata": {},
   "outputs": [],
   "source": [
    "# implement away\n",
    "# do not use other functions than provided by basic python or numpy \n",
    "# (especially not the gaussian curvature function provided by igl)\n",
    "\n",
    "def gaussian (ver, triagl):\n",
    "    for i in ver:\n",
    "        print(i)\n",
    "    return i\n",
    "\n",
    "g = gaussian(vert, tri)"
   ]
  },
  {
   "cell_type": "code",
   "execution_count": 3,
   "metadata": {},
   "outputs": [
    {
     "name": "stdout",
     "output_type": "stream",
     "text": [
      "[ 0.00947098  0.01169402  0.00610402 ...  0.01208209  0.01030115\n",
      " -0.00684498]\n",
      "\n",
      "(134345,)\n"
     ]
    }
   ],
   "source": [
    "k = igl.gaussian_curvature(vert, tri)\n",
    "#print(vert, tri, k)\n",
    "print(k)\n",
    "print()\n",
    "print(k.shape)\n",
    "#plot(vert, tri, k)\n",
    "\n",
    "\n"
   ]
  },
  {
   "cell_type": "code",
   "execution_count": 4,
   "metadata": {},
   "outputs": [
    {
     "ename": "NameError",
     "evalue": "name 'gaussian' is not defined",
     "output_type": "error",
     "traceback": [
      "\u001b[1;31m---------------------------------------------------------------------------\u001b[0m",
      "\u001b[1;31mNameError\u001b[0m                                 Traceback (most recent call last)",
      "\u001b[1;32m<ipython-input-4-d0f184529d01>\u001b[0m in \u001b[0;36m<module>\u001b[1;34m\u001b[0m\n\u001b[1;32m----> 1\u001b[1;33m \u001b[0mg\u001b[0m \u001b[1;33m=\u001b[0m \u001b[0mgaussian\u001b[0m\u001b[1;33m(\u001b[0m\u001b[0mvert\u001b[0m\u001b[1;33m,\u001b[0m\u001b[0mtri\u001b[0m\u001b[1;33m)\u001b[0m\u001b[1;33m\u001b[0m\u001b[1;33m\u001b[0m\u001b[0m\n\u001b[0m",
      "\u001b[1;31mNameError\u001b[0m: name 'gaussian' is not defined"
     ]
    }
   ],
   "source": []
  },
  {
   "cell_type": "code",
   "execution_count": 5,
   "metadata": {},
   "outputs": [
    {
     "data": {
      "application/vnd.jupyter.widget-view+json": {
       "model_id": "63886315699c45d981c49271908ff87c",
       "version_major": 2,
       "version_minor": 0
      },
      "text/plain": [
       "Renderer(camera=PerspectiveCamera(children=(DirectionalLight(color='white', intensity=0.6, position=(-0.021590…"
      ]
     },
     "metadata": {},
     "output_type": "display_data"
    },
    {
     "data": {
      "text/plain": [
       "<meshplot.Viewer.Viewer at 0x2cb8374c070>"
      ]
     },
     "execution_count": 5,
     "metadata": {},
     "output_type": "execute_result"
    }
   ],
   "source": [
    "# plot curvature function on the surface (cutting off extreme values)\n",
    "#colors = mp.utils.get_colors(g, colormap='viridis', normalize=False, vmin=-200, vmax=200)\n",
    "colors = mp.utils.get_colors(k, colormap='viridis', normalize=False, vmin=-200, vmax=200)\n",
    "mp.plot(vert, tri, c=colors)\n"
   ]
  },
  {
   "cell_type": "code",
   "execution_count": null,
   "metadata": {},
   "outputs": [],
   "source": [
    "G= []\n",
    "for i in range(50):\n",
    "    theta =0\n",
    "    area = 0\n",
    "    for k in range(len(tri)):\n",
    "        if (i in tri[k]):\n",
    "            V_1 = vert[tri[k][0]] - vert[i]\n",
    "            V_2 = vert[tri[k][1]] - vert[i]\n",
    "            V_3 = vert[tri[k][2]] - vert[i]\n",
    "            \n",
    "            if np.array_equal(V_1, np.zeros(3)):\n",
    "                inner = np.inner(V_2, V_3)\n",
    "                norms = LA.norm(V_2)* LA.norm(V_3)\n",
    "                cos = inner/norms\n",
    "                rad = np.arccos(np.clip(cos, -1.0, 1.0))\n",
    "                area = 0.5*LA.norm(np.cross(V_2,V_3))\n",
    "\n",
    "            elif np.array_equal(V_2, np.zeros(3)):\n",
    "                inner = np.inner(V_1, V_3)\n",
    "                norms = LA.norm(V_1)* LA.norm(V_3)\n",
    "                cos = inner/norms\n",
    "                rad = np.arccos(np.clip(cos, -1.0, 1.0))\n",
    "                area = 0.5*LA.norm(np.cross(V_1,V_3))\n",
    "            else:\n",
    "                inner = np.inner(V_1, V_2)\n",
    "                norms = LA.norm(V_1)* LA.norm(V_2)\n",
    "                cos = inner/norms\n",
    "                rad = np.arccos(np.clip(cos, -1.0, 1.0))\n",
    "                area = 0.5*LA.norm(np.cross(V_1,V_2))\n",
    "\n",
    "            theta += rad\n",
    "            area  += area \n",
    "            total_area = (1/3)*area\n",
    "        else:\n",
    "            pass\n",
    "    K= ((2*(np.pi)) - theta)/ total_area\n",
    "    G.append(K)\n",
    "G = np.asarray(G)\n",
    "print(G)\n",
    "print(G.shape)"
   ]
  },
  {
   "cell_type": "code",
   "execution_count": null,
   "metadata": {},
   "outputs": [],
   "source": []
  },
  {
   "cell_type": "code",
   "execution_count": null,
   "metadata": {},
   "outputs": [],
   "source": [
    "import numpy as np\n",
    "import numpy.linalg as LA\n",
    "\n",
    "a = np.array([-0.01123621, 0.00027435,  0.00519174])\n",
    "b = np.array([-0.00577741, -0.00036782, -0.00335802])\n",
    "\n",
    "inner = np.inner(a, b)\n",
    "norms = LA.norm(a) * LA.norm(b)\n",
    "\n",
    "cos = inner / norms\n",
    "rad = np.arccos(np.clip(cos, -1.0, 1.0))\n",
    "deg = np.rad2deg(rad)\n",
    "area = 0.5*LA.norm(np.cross(a,b))\n",
    "print(rad)\n",
    "print(deg)\n",
    "G= ((2*(np.pi)) - rad)/(area)\n",
    "print(G)"
   ]
  }
 ],
 "metadata": {
  "kernelspec": {
   "display_name": "Python 3",
   "language": "python",
   "name": "python3"
  },
  "language_info": {
   "codemirror_mode": {
    "name": "ipython",
    "version": 3
   },
   "file_extension": ".py",
   "mimetype": "text/x-python",
   "name": "python",
   "nbconvert_exporter": "python",
   "pygments_lexer": "ipython3",
   "version": "3.8.8"
  }
 },
 "nbformat": 4,
 "nbformat_minor": 4
}
